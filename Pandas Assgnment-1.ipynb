{
 "cells": [
  {
   "cell_type": "markdown",
   "id": "1cd27bdf-d4ee-472f-8ec0-88d84616fc5c",
   "metadata": {},
   "source": [
    "1. Create a Pandas Series that contains the following data: 4, 8, 15, 16, 23, and 42. Then, print the series.\n"
   ]
  },
  {
   "cell_type": "code",
   "execution_count": 1,
   "id": "45fdc238-9f4f-4f8d-a7ba-daa648cf153f",
   "metadata": {},
   "outputs": [
    {
     "name": "stdout",
     "output_type": "stream",
     "text": [
      "0     4\n",
      "1     8\n",
      "2    15\n",
      "3    16\n",
      "4    23\n",
      "5    42\n",
      "dtype: int64\n"
     ]
    }
   ],
   "source": [
    "import pandas as pd\n",
    "\n",
    "data = [4, 8, 15, 16, 23, 42]\n",
    "series = pd.Series(data)\n",
    "print(series)"
   ]
  },
  {
   "cell_type": "markdown",
   "id": "0f0d7942-39ca-4679-bbc7-0bd0012e0d76",
   "metadata": {},
   "source": [
    "2. Create a variable of list type containing 10 elements in it, and apply pandas.Series function on the\n",
    "variable print it."
   ]
  },
  {
   "cell_type": "code",
   "execution_count": 3,
   "id": "fbdc605f-54e8-47b0-9007-3e732b7c87f8",
   "metadata": {},
   "outputs": [
    {
     "name": "stdout",
     "output_type": "stream",
     "text": [
      "0     1\n",
      "1     2\n",
      "2     3\n",
      "3     4\n",
      "4     5\n",
      "5     6\n",
      "6     7\n",
      "7     8\n",
      "8     9\n",
      "9    10\n",
      "dtype: int64\n"
     ]
    }
   ],
   "source": [
    "import pandas as pd\n",
    "\n",
    "my_list = [1, 2, 3, 4, 5, 6, 7, 8, 9, 10]\n",
    "series = pd.Series(my_list)\n",
    "print(series)"
   ]
  },
  {
   "cell_type": "markdown",
   "id": "dc73c593-66e8-4882-845b-b52ce43aa6fb",
   "metadata": {},
   "source": [
    "3.What is ‘DataFrame’ in pandas and how is it different from pandas.series? Explain with an example.\n"
   ]
  },
  {
   "cell_type": "markdown",
   "id": "5fd8efeb-6974-4447-9c85-785b7ed8c5d6",
   "metadata": {},
   "source": [
    "Ans. In pandas, a DataFrame is a two-dimensional data structure that is similar to a table or a spreadsheet. It consists of rows and columns, where each column can hold data of different types (e.g., numeric, string, boolean, etc.). The DataFrame is one of the primary data structures in the pandas library and provides a convenient way to store, manipulate, and analyze data.\n",
    "\n",
    "On the other hand, a pandas Series is a one-dimensional labeled array that can hold any data type. It is similar to a column in a DataFrame or a single column of data in a spreadsheet. Each element in a Series is associated with a unique label called an index. The Series provides a powerful and flexible container for handling data.\n",
    "\n",
    "Here's an example to illustrate the difference between a DataFrame and a Series:"
   ]
  },
  {
   "cell_type": "markdown",
   "id": "43c82b6c-12bf-47d4-808d-d2dbd9332ec3",
   "metadata": {},
   "source": [
    "3. Create a Pandas DataFrame that contains the following data:"
   ]
  },
  {
   "cell_type": "code",
   "execution_count": 5,
   "id": "7f990e4f-0cfe-4196-a97c-5bc2e1280ebf",
   "metadata": {},
   "outputs": [
    {
     "name": "stdout",
     "output_type": "stream",
     "text": [
      "     Name  Age  Gender\n",
      "0   Alice   25  Female\n",
      "1     Bob   30    Male\n",
      "2  Claire   27  Female\n"
     ]
    }
   ],
   "source": [
    "import pandas as pd\n",
    "\n",
    "# Creating a DataFrame\n",
    "data = {'Name': ['Alice', 'Bob', 'Claire'],\n",
    "        'Age': [25, 30, 27],\n",
    "        'Gender': ['Female', 'Male', 'Female']}\n",
    "df = pd.DataFrame(data)\n",
    "\n",
    "print(df)"
   ]
  },
  {
   "cell_type": "markdown",
   "id": "ec8faa1c-bfba-4b23-b471-e8f2535db7db",
   "metadata": {},
   "source": [
    "4. What is ‘DataFrame’ in pandas and how is it different from pandas.series? Explain with an example."
   ]
  },
  {
   "cell_type": "code",
   "execution_count": 4,
   "id": "a08a5214-7b4e-464f-8e78-1de8c2e40960",
   "metadata": {},
   "outputs": [
    {
     "name": "stdout",
     "output_type": "stream",
     "text": [
      "   Name  Age      City\n",
      "0  John   25  New York\n",
      "1  Jane   30    London\n",
      "2  Sara   28     Paris\n"
     ]
    }
   ],
   "source": [
    "import pandas as pd\n",
    "\n",
    "# Creating a DataFrame\n",
    "data = {'Name': ['John', 'Jane', 'Sara'],\n",
    "        'Age': [25, 30, 28],\n",
    "        'City': ['New York', 'London', 'Paris']}\n",
    "df = pd.DataFrame(data)\n",
    "\n",
    "print(df)"
   ]
  },
  {
   "cell_type": "markdown",
   "id": "5900a983-074f-4b56-959b-d173e304990d",
   "metadata": {},
   "source": [
    "5. What are some common functions you can use to manipulate data in a Pandas DataFrame? Can\n",
    "you give an example of when you might use one of these functions?\n"
   ]
  },
  {
   "cell_type": "markdown",
   "id": "6a5f01d8-ad94-41bc-b15c-06abf921877f",
   "metadata": {},
   "source": [
    "Pandas provides a wide range of functions and methods to manipulate data in a DataFrame. Here are some common functions you can use:"
   ]
  },
  {
   "cell_type": "code",
   "execution_count": 7,
   "id": "3525ce18-ff35-487e-9eae-24189c3d8153",
   "metadata": {},
   "outputs": [
    {
     "name": "stdout",
     "output_type": "stream",
     "text": [
      "   Name  Age      City\n",
      "0  John   25  New York\n",
      "1  Jane   30    London\n"
     ]
    }
   ],
   "source": [
    "#head(): Returns the first n rows of the DataFrame. It is useful to quickly inspect the data and get a sense of its structure.\n",
    "import pandas as pd\n",
    "\n",
    "# Creating a DataFrame\n",
    "data = {'Name': ['John', 'Jane', 'Sara'],\n",
    "        'Age': [25, 30, 28],\n",
    "        'City': ['New York', 'London', 'Paris']}\n",
    "df = pd.DataFrame(data)\n",
    "\n",
    "print(df.head(2))"
   ]
  },
  {
   "cell_type": "code",
   "execution_count": 9,
   "id": "917f322b-1950-4317-b4e1-661223c1efd1",
   "metadata": {},
   "outputs": [
    {
     "name": "stdout",
     "output_type": "stream",
     "text": [
      "<class 'pandas.core.frame.DataFrame'>\n",
      "RangeIndex: 3 entries, 0 to 2\n",
      "Data columns (total 3 columns):\n",
      " #   Column  Non-Null Count  Dtype \n",
      "---  ------  --------------  ----- \n",
      " 0   Name    3 non-null      object\n",
      " 1   Age     3 non-null      int64 \n",
      " 2   City    3 non-null      object\n",
      "dtypes: int64(1), object(2)\n",
      "memory usage: 200.0+ bytes\n",
      "None\n"
     ]
    }
   ],
   "source": [
    "#info(): Provides a summary of the DataFrame, including the data types, number of non-null values, and memory usage. It helps in understanding the overall structure of the data.\n",
    "print(df.info())"
   ]
  },
  {
   "cell_type": "code",
   "execution_count": 10,
   "id": "7e432169-6770-424d-822f-affcf3fee880",
   "metadata": {},
   "outputs": [
    {
     "name": "stdout",
     "output_type": "stream",
     "text": [
      "             Age\n",
      "count   3.000000\n",
      "mean   27.666667\n",
      "std     2.516611\n",
      "min    25.000000\n",
      "25%    26.500000\n",
      "50%    28.000000\n",
      "75%    29.000000\n",
      "max    30.000000\n"
     ]
    }
   ],
   "source": [
    "#describe(): Generates descriptive statistics of numerical columns in the DataFrame, such as count, mean, standard deviation, minimum, quartiles, and maximum. It gives a quick summary of the central tendency, dispersion, and shape of the distribution of a dataset.\n",
    "print(df.describe())"
   ]
  },
  {
   "cell_type": "code",
   "execution_count": 11,
   "id": "11d0e632-5c62-495c-bbb3-70ffe0726086",
   "metadata": {},
   "outputs": [
    {
     "name": "stdout",
     "output_type": "stream",
     "text": [
      "New York    1\n",
      "London      1\n",
      "Paris       1\n",
      "Name: City, dtype: int64\n"
     ]
    }
   ],
   "source": [
    "#value_counts(): Computes the frequency of unique values in a column. It is useful for understanding the distribution of categorical variables.\n",
    "print(df['City'].value_counts())"
   ]
  },
  {
   "cell_type": "code",
   "execution_count": 12,
   "id": "05f3b310-dcbe-4c15-ad0d-1c64ed13d03d",
   "metadata": {},
   "outputs": [
    {
     "name": "stdout",
     "output_type": "stream",
     "text": [
      "   Name  Age      City\n",
      "1  Jane   30    London\n",
      "2  Sara   28     Paris\n",
      "0  John   25  New York\n"
     ]
    }
   ],
   "source": [
    "#sort_values(): Sorts the DataFrame by one or more columns. It allows arranging the data in ascending or descending order based on specified criteria.\n",
    "print(df.sort_values('Age', ascending=False))"
   ]
  },
  {
   "cell_type": "markdown",
   "id": "a472500d-3fbf-4419-bb4d-945f1453b0f1",
   "metadata": {},
   "source": [
    "6. Which of the following is mutable in nature Series, DataFrame, Panel?\n",
    "\n",
    "Ans:\n",
    "In pandas, both Series and DataFrame are mutable in nature, meaning you can modify their contents after they are created. On the other hand, the Panel data structure has been deprecated since pandas version 0.20.1 and is no longer actively supported. The recommended approach for handling three-dimensional data in pandas is to use the MultiIndex DataFrame.\n",
    "\n",
    "To summarize:\n",
    "\n",
    "Series: Mutable\n",
    "DataFrame: Mutable\n",
    "Panel: Deprecated (not actively supported)\n",
    "Therefore, out of the options given (Series, DataFrame, Panel), Series and DataFrame are mutable in nature.\n"
   ]
  },
  {
   "cell_type": "markdown",
   "id": "b034ecd5-f277-4258-b7bf-5443c4cd2f64",
   "metadata": {},
   "source": [
    "7. Create a DataFrame using multiple Series. Explain with an example.\n",
    "\n",
    "Ans:\n",
    "To create a DataFrame using multiple Series, you can combine the individual Series objects into a single DataFrame. Each Series will represent a column in the resulting DataFrame. Here's an example to illustrate the process:"
   ]
  },
  {
   "cell_type": "code",
   "execution_count": 13,
   "id": "1baa2964-e883-4054-93a4-0e3386a04ad6",
   "metadata": {},
   "outputs": [
    {
     "name": "stdout",
     "output_type": "stream",
     "text": [
      "   Name  Age      City\n",
      "0  John   25  New York\n",
      "1  Jane   30    London\n",
      "2  Sara   28     Paris\n"
     ]
    }
   ],
   "source": [
    "import pandas as pd\n",
    "\n",
    "# Creating individual Series\n",
    "name_series = pd.Series(['John', 'Jane', 'Sara'])\n",
    "age_series = pd.Series([25, 30, 28])\n",
    "city_series = pd.Series(['New York', 'London', 'Paris'])\n",
    "\n",
    "# Creating DataFrame using the Series\n",
    "data = {'Name': name_series, 'Age': age_series, 'City': city_series}\n",
    "df = pd.DataFrame(data)\n",
    "\n",
    "print(df)"
   ]
  },
  {
   "cell_type": "code",
   "execution_count": null,
   "id": "cd4d80e6-3fc2-4a71-bd71-ee2ae102452c",
   "metadata": {},
   "outputs": [],
   "source": []
  }
 ],
 "metadata": {
  "kernelspec": {
   "display_name": "Python 3 (ipykernel)",
   "language": "python",
   "name": "python3"
  },
  "language_info": {
   "codemirror_mode": {
    "name": "ipython",
    "version": 3
   },
   "file_extension": ".py",
   "mimetype": "text/x-python",
   "name": "python",
   "nbconvert_exporter": "python",
   "pygments_lexer": "ipython3",
   "version": "3.10.8"
  }
 },
 "nbformat": 4,
 "nbformat_minor": 5
}
